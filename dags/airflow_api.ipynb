{
 "cells": [
  {
   "cell_type": "code",
   "execution_count": null,
   "metadata": {},
   "outputs": [],
   "source": [
    "# Using Airflow API in Python\n",
    "# If Airflow in Docker(localhost)\n",
    "\n",
    "import requests\n",
    "from requests.auth import HTTPBasicAuth\n",
    "import pprint\n",
    "\n",
    "url = \"http://localhost:8080/api/v1/dags\"\n",
    "\n",
    "dags = requests.get(url, auth=HTTPBasicAuth(\"airflow\",\"airflow\"))\n",
    "\n",
    "for d in dags.json()[\"dags\"]:\n",
    "\tif not d[\"is_paused\"]:\n",
    "\t\tprint(d[\"dag_id\"])"
   ]
  },
  {
   "cell_type": "code",
   "execution_count": null,
   "metadata": {},
   "outputs": [],
   "source": [
    "# List varibales\n",
    "\n",
    "url = \"http://localhost:8080/api/v1/variables\"\n",
    "\n",
    "dags = requests.get(url, auth=HTTPBasicAuth(\"airflow\",\"airflow\"))\n",
    "\n",
    "pprint.pprint(dags.json())"
   ]
  },
  {
   "cell_type": "code",
   "execution_count": null,
   "metadata": {},
   "outputs": [],
   "source": [
    "# List config\n",
    "\n",
    "url = \"http://localhost:8080/api/v1/config\"\n",
    "\n",
    "dags = requests.get(url, auth=HTTPBasicAuth(\"airflow\",\"airflow\"))\n",
    "\n",
    "pprint.pprint(dags.text)"
   ]
  },
  {
   "cell_type": "code",
   "execution_count": 56,
   "metadata": {},
   "outputs": [
    {
     "data": {
      "text/plain": [
       "{'conf': {},\n",
       " 'dag_id': 'HelloWorld',\n",
       " 'dag_run_id': 'manual__2023-05-24T00:00:00+00:00',\n",
       " 'data_interval_end': '2023-05-23T02:00:00+00:00',\n",
       " 'data_interval_start': '2023-05-22T02:00:00+00:00',\n",
       " 'end_date': None,\n",
       " 'execution_date': '2023-05-24T00:00:00+00:00',\n",
       " 'external_trigger': True,\n",
       " 'last_scheduling_decision': None,\n",
       " 'logical_date': '2023-05-24T00:00:00+00:00',\n",
       " 'note': None,\n",
       " 'run_type': 'manual',\n",
       " 'start_date': None,\n",
       " 'state': 'queued'}"
      ]
     },
     "execution_count": 56,
     "metadata": {},
     "output_type": "execute_result"
    }
   ],
   "source": [
    "# Run HelloWorld Dag\n",
    "\n",
    "import json \n",
    "\n",
    "url = \"http://localhost:8080/api/v1/dags/HelloWorld/dagRuns\"\n",
    "auth = HTTPBasicAuth(\"airflow\", \"airflow\")\n",
    "headers = {\"Content-Type\": \"application/json\"}\n",
    "data = {\"execution_date\": \"2023-05-24T00:00:00Z\"}\n",
    "\n",
    "response = requests.post(url, auth=auth, headers=headers, data=json.dumps(data))\n",
    "\n",
    "response.json()"
   ]
  },
  {
   "cell_type": "code",
   "execution_count": 57,
   "metadata": {},
   "outputs": [
    {
     "name": "stdout",
     "output_type": "stream",
     "text": [
      "('{\\n'\n",
      " '  \"metadatabase\": {\\n'\n",
      " '    \"status\": \"healthy\"\\n'\n",
      " '  },\\n'\n",
      " '  \"scheduler\": {\\n'\n",
      " '    \"latest_scheduler_heartbeat\": \"2023-06-21T16:40:43.524748+00:00\",\\n'\n",
      " '    \"status\": \"healthy\"\\n'\n",
      " '  }\\n'\n",
      " '}\\n')\n"
     ]
    }
   ],
   "source": [
    "# Check Airlfow Health\n",
    "\n",
    "url = \"http://localhost:8080/api/v1/health\"\n",
    "\n",
    "dags = requests.get(url, auth=HTTPBasicAuth(\"airflow\",\"airflow\"))\n",
    "\n",
    "pprint.pprint(dags.text)"
   ]
  }
 ],
 "metadata": {
  "kernelspec": {
   "display_name": "Python 3",
   "language": "python",
   "name": "python3"
  },
  "language_info": {
   "codemirror_mode": {
    "name": "ipython",
    "version": 3
   },
   "file_extension": ".py",
   "mimetype": "text/x-python",
   "name": "python",
   "nbconvert_exporter": "python",
   "pygments_lexer": "ipython3",
   "version": "3.11.3"
  },
  "orig_nbformat": 4
 },
 "nbformat": 4,
 "nbformat_minor": 2
}
